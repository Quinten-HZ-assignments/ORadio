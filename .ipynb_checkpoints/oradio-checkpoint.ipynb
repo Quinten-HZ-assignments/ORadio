{
 "cells": [
  {
   "cell_type": "markdown",
   "metadata": {},
   "source": [
    "## Imports"
   ]
  },
  {
   "cell_type": "code",
   "execution_count": 1,
   "metadata": {},
   "outputs": [],
   "source": [
    "import pandas as pd\n",
    "import matplotlib.pyplot as plt\n",
    "import numpy as np"
   ]
  },
  {
   "cell_type": "markdown",
   "metadata": {},
   "source": [
    "## Read CSV"
   ]
  },
  {
   "cell_type": "code",
   "execution_count": 2,
   "metadata": {},
   "outputs": [
    {
     "data": {
      "text/html": [
       "<div>\n",
       "<style scoped>\n",
       "    .dataframe tbody tr th:only-of-type {\n",
       "        vertical-align: middle;\n",
       "    }\n",
       "\n",
       "    .dataframe tbody tr th {\n",
       "        vertical-align: top;\n",
       "    }\n",
       "\n",
       "    .dataframe thead th {\n",
       "        text-align: right;\n",
       "    }\n",
       "</style>\n",
       "<table border=\"1\" class=\"dataframe\">\n",
       "  <thead>\n",
       "    <tr style=\"text-align: right;\">\n",
       "      <th></th>\n",
       "      <th>Time</th>\n",
       "      <th>channel</th>\n",
       "      <th>volume</th>\n",
       "      <th>state</th>\n",
       "    </tr>\n",
       "  </thead>\n",
       "  <tbody>\n",
       "    <tr>\n",
       "      <th>0</th>\n",
       "      <td>15/04/2021 11:53</td>\n",
       "      <td>Nostalgia</td>\n",
       "      <td>NaN</td>\n",
       "      <td>ONWAAR</td>\n",
       "    </tr>\n",
       "    <tr>\n",
       "      <th>1</th>\n",
       "      <td>15/04/2021 11:53</td>\n",
       "      <td>Klassiek</td>\n",
       "      <td>NaN</td>\n",
       "      <td>ONWAAR</td>\n",
       "    </tr>\n",
       "    <tr>\n",
       "      <th>2</th>\n",
       "      <td>15/04/2021 11:53</td>\n",
       "      <td>Nederlands</td>\n",
       "      <td>NaN</td>\n",
       "      <td>ONWAAR</td>\n",
       "    </tr>\n",
       "    <tr>\n",
       "      <th>3</th>\n",
       "      <td>15/04/2021 11:53</td>\n",
       "      <td>Volume</td>\n",
       "      <td>27.0</td>\n",
       "      <td>ONWAAR</td>\n",
       "    </tr>\n",
       "    <tr>\n",
       "      <th>4</th>\n",
       "      <td>15/04/2021 11:53</td>\n",
       "      <td>Volume</td>\n",
       "      <td>39.0</td>\n",
       "      <td>ONWAAR</td>\n",
       "    </tr>\n",
       "    <tr>\n",
       "      <th>...</th>\n",
       "      <td>...</td>\n",
       "      <td>...</td>\n",
       "      <td>...</td>\n",
       "      <td>...</td>\n",
       "    </tr>\n",
       "    <tr>\n",
       "      <th>250</th>\n",
       "      <td>15/04/2021 12:01</td>\n",
       "      <td>Volume</td>\n",
       "      <td>15.0</td>\n",
       "      <td>WAAR</td>\n",
       "    </tr>\n",
       "    <tr>\n",
       "      <th>251</th>\n",
       "      <td>15/04/2021 12:01</td>\n",
       "      <td>Volume</td>\n",
       "      <td>18.0</td>\n",
       "      <td>WAAR</td>\n",
       "    </tr>\n",
       "    <tr>\n",
       "      <th>252</th>\n",
       "      <td>15/04/2021 12:01</td>\n",
       "      <td>Volume</td>\n",
       "      <td>18.0</td>\n",
       "      <td>WAAR</td>\n",
       "    </tr>\n",
       "    <tr>\n",
       "      <th>253</th>\n",
       "      <td>15/04/2021 12:01</td>\n",
       "      <td>Volume</td>\n",
       "      <td>17.0</td>\n",
       "      <td>WAAR</td>\n",
       "    </tr>\n",
       "    <tr>\n",
       "      <th>254</th>\n",
       "      <td>15/04/2021 12:02</td>\n",
       "      <td>Device OFF</td>\n",
       "      <td>NaN</td>\n",
       "      <td>ONWAAR</td>\n",
       "    </tr>\n",
       "  </tbody>\n",
       "</table>\n",
       "<p>255 rows × 4 columns</p>\n",
       "</div>"
      ],
      "text/plain": [
       "                 Time     channel  volume   state\n",
       "0    15/04/2021 11:53   Nostalgia     NaN  ONWAAR\n",
       "1    15/04/2021 11:53    Klassiek     NaN  ONWAAR\n",
       "2    15/04/2021 11:53  Nederlands     NaN  ONWAAR\n",
       "3    15/04/2021 11:53      Volume    27.0  ONWAAR\n",
       "4    15/04/2021 11:53      Volume    39.0  ONWAAR\n",
       "..                ...         ...     ...     ...\n",
       "250  15/04/2021 12:01      Volume    15.0    WAAR\n",
       "251  15/04/2021 12:01      Volume    18.0    WAAR\n",
       "252  15/04/2021 12:01      Volume    18.0    WAAR\n",
       "253  15/04/2021 12:01      Volume    17.0    WAAR\n",
       "254  15/04/2021 12:02  Device OFF     NaN  ONWAAR\n",
       "\n",
       "[255 rows x 4 columns]"
      ]
     },
     "execution_count": 2,
     "metadata": {},
     "output_type": "execute_result"
    }
   ],
   "source": [
    "df = pd.read_csv(\"./buttonslog.csv\", encoding=\"Latin-1\", sep=\",\")\n",
    "df"
   ]
  },
  {
   "cell_type": "code",
   "execution_count": 5,
   "metadata": {},
   "outputs": [
    {
     "data": {
      "text/plain": [
       "<AxesSubplot:title={'center':'Gespeelde kanalen'}>"
      ]
     },
     "execution_count": 5,
     "metadata": {},
     "output_type": "execute_result"
    },
    {
     "data": {
      "image/png": "[encoded data removed]",
      "text/plain": [
       "<Figure size 1152x648 with 1 Axes>"
      ]
     },
     "metadata": {
      "needs_background": "light"
     },
     "output_type": "display_data"
    }
   ],
   "source": [
    "clean = df\n",
    "clean = clean[clean.channel != 'Device OFF']\n",
    "clean = clean[clean.channel != 'Device ON']\n",
    "clean = clean[clean.channel != 'Volume']\n",
    "clean.channel.value_counts().sort_values().plot(kind = 'bar', rot=0, figsize=(16,9), title=\"Gespeelde kanalen\")"
   ]
  },
  {
   "cell_type": "code",
   "execution_count": 10,
   "metadata": {},
   "outputs": [
    {
     "name": "stdout",
     "output_type": "stream",
     "text": [
      "49\n",
      "62\n",
      "100\n"
     ]
    },
    {
     "data": {
      "text/plain": [
       "<AxesSubplot:title={'center':'Gespeelde kanalen'}>"
      ]
     },
     "execution_count": 10,
     "metadata": {},
     "output_type": "execute_result"
    },
    {
     "data": {
      "image/png": "[encoded data removed]",
      "text/plain": [
       "<Figure size 1152x648 with 1 Axes>"
      ]
     },
     "metadata": {
      "needs_background": "light"
     },
     "output_type": "display_data"
    }
   ],
   "source": [
    "# if df.Time.value_counts().sort_values() > 20:\n",
    "times = pd.DataFrame\n",
    "times = df['Time']\n",
    "test = times.value_counts().sort_values()\n",
    "for changes in test:\n",
    "    if changes > 20:\n",
    "        test2 = changes\n",
    "        print(changes)\n",
    "  \n",
    "        \n",
    "# test = df.Time.value_counts().sort_values()\n",
    "# for i in test:\n",
    "#     print(test)\n",
    "df.Time.value_counts().sort_values().plot(kind = 'bar', rot=0, figsize=(16,9), title=\"Gespeelde kanalen\")"
   ]
  },
  {
   "cell_type": "code",
   "execution_count": null,
   "metadata": {},
   "outputs": [],
   "source": []
  }
 ],
 "metadata": {
  "kernelspec": {
   "display_name": "Python 3",
   "language": "python",
   "name": "python3"
  },
  "language_info": {
   "codemirror_mode": {
    "name": "ipython",
    "version": 3
   },
   "file_extension": ".py",
   "mimetype": "text/x-python",
   "name": "python",
   "nbconvert_exporter": "python",
   "pygments_lexer": "ipython3",
   "version": "3.8.5"
  },
  "varInspector": {
   "cols": {
    "lenName": 16,
    "lenType": 16,
    "lenVar": 40
   },
   "kernels_config": {
    "python": {
     "delete_cmd_postfix": "",
     "delete_cmd_prefix": "del ",
     "library": "var_list.py",
     "varRefreshCmd": "print(var_dic_list())"
    },
    "r": {
     "delete_cmd_postfix": ") ",
     "delete_cmd_prefix": "rm(",
     "library": "var_list.r",
     "varRefreshCmd": "cat(var_dic_list()) "
    }
   },
   "types_to_exclude": [
    "module",
    "function",
    "builtin_function_or_method",
    "instance",
    "_Feature"
   ],
   "window_display": false
  }
 },
 "nbformat": 4,
 "nbformat_minor": 4
}
